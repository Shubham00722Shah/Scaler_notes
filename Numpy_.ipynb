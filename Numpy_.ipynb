{
  "nbformat": 4,
  "nbformat_minor": 0,
  "metadata": {
    "colab": {
      "provenance": [],
      "authorship_tag": "ABX9TyOnlN4Fa3+KeHUAuVx/OYG3",
      "include_colab_link": true
    },
    "kernelspec": {
      "name": "python3",
      "display_name": "Python 3"
    },
    "language_info": {
      "name": "python"
    }
  },
  "cells": [
    {
      "cell_type": "markdown",
      "metadata": {
        "id": "view-in-github",
        "colab_type": "text"
      },
      "source": [
        "<a href=\"https://colab.research.google.com/github/Shubham00722Shah/test_repo_aug/blob/main/Numpy_.ipynb\" target=\"_parent\"><img src=\"https://colab.research.google.com/assets/colab-badge.svg\" alt=\"Open In Colab\"/></a>"
      ]
    },
    {
      "cell_type": "code",
      "execution_count": 2,
      "metadata": {
        "id": "13KXBAj0IS_u"
      },
      "outputs": [],
      "source": [
        "  l1=[1,2,3,4,5]"
      ]
    },
    {
      "cell_type": "markdown",
      "source": [
        "#required ouput l1=[2,4,6,8,10]"
      ],
      "metadata": {
        "id": "_X9zpqp2IvjS"
      }
    },
    {
      "cell_type": "code",
      "source": [
        "import numpy as np"
      ],
      "metadata": {
        "id": "iCPROVLwI7hI"
      },
      "execution_count": 1,
      "outputs": []
    },
    {
      "cell_type": "code",
      "source": [
        "l1=np.array(l1)\n",
        "print(list(l1*2))"
      ],
      "metadata": {
        "colab": {
          "base_uri": "https://localhost:8080/"
        },
        "id": "tgO-2-d9JJGi",
        "outputId": "10485782-e202-4b59-ba80-8a2769a38fcb"
      },
      "execution_count": 20,
      "outputs": [
        {
          "output_type": "stream",
          "name": "stdout",
          "text": [
            "[2, 4, 6, 8, 10]\n"
          ]
        }
      ]
    },
    {
      "cell_type": "markdown",
      "source": [
        "#Elementwise multiplication of list"
      ],
      "metadata": {
        "id": "gZj8kSmeJfHD"
      }
    },
    {
      "cell_type": "code",
      "source": [
        "L1=[1,2,3,4]\n",
        "L2=[5,6,7,8]"
      ],
      "metadata": {
        "id": "RG9nQKmKKVW9"
      },
      "execution_count": 6,
      "outputs": []
    },
    {
      "cell_type": "code",
      "source": [
        "L1=np.array(L1)\n",
        "L2=np.array(L2)"
      ],
      "metadata": {
        "id": "cb4rGi7uKbxo"
      },
      "execution_count": 7,
      "outputs": []
    },
    {
      "cell_type": "code",
      "source": [
        "print(list(L1*L2))"
      ],
      "metadata": {
        "colab": {
          "base_uri": "https://localhost:8080/"
        },
        "id": "BX-bn4uDKi_V",
        "outputId": "f73df379-b96e-4e45-d9a3-4a5f7f93d1f4"
      },
      "execution_count": 19,
      "outputs": [
        {
          "output_type": "stream",
          "name": "stdout",
          "text": [
            "[5, 12, 21, 32]\n"
          ]
        }
      ]
    },
    {
      "cell_type": "markdown",
      "source": [
        "#Element wise addition of list"
      ],
      "metadata": {
        "id": "VAJprNdNLLiB"
      }
    },
    {
      "cell_type": "code",
      "source": [
        "L3=[1,2,3,4,5]\n",
        "L4=[6,7,8,9,10]"
      ],
      "metadata": {
        "id": "X5n0dluZLPnU"
      },
      "execution_count": 13,
      "outputs": []
    },
    {
      "cell_type": "code",
      "source": [
        "L3=np.array(L3)\n",
        "L4=np.array(L4)\n",
        "\n",
        "print(list(L3+L4))"
      ],
      "metadata": {
        "colab": {
          "base_uri": "https://localhost:8080/"
        },
        "id": "MSwzAno2LhdD",
        "outputId": "49491da3-27e9-4fbe-8bfd-734f2ab06084"
      },
      "execution_count": 18,
      "outputs": [
        {
          "output_type": "stream",
          "name": "stdout",
          "text": [
            "[7, 9, 11, 13, 15]\n"
          ]
        }
      ]
    },
    {
      "cell_type": "markdown",
      "source": [
        "# Filtering only even numbers"
      ],
      "metadata": {
        "id": "ObtI8VQ8LzP-"
      }
    },
    {
      "cell_type": "code",
      "source": [
        "L5=[1,2,3,4,5,6,7,8,9,10]\n",
        "L5=np.array(L5)\n",
        "print(list(L5[L5%2==0]))"
      ],
      "metadata": {
        "colab": {
          "base_uri": "https://localhost:8080/"
        },
        "id": "oj8VtMTmL319",
        "outputId": "75614e26-45c9-49ab-bd8f-8e20f22658da"
      },
      "execution_count": 17,
      "outputs": [
        {
          "output_type": "stream",
          "name": "stdout",
          "text": [
            "[2, 4, 6, 8, 10]\n"
          ]
        }
      ]
    },
    {
      "cell_type": "markdown",
      "source": [
        "#Finding the Minimum and Maximum Values of the List"
      ],
      "metadata": {
        "id": "CwfLIi4gNzOj"
      }
    },
    {
      "cell_type": "code",
      "source": [
        "L6=[3,7,1,9,5]\n",
        "L6=np.array(L6)\n",
        "print(L6.max())\n",
        "print(L6.min())"
      ],
      "metadata": {
        "colab": {
          "base_uri": "https://localhost:8080/"
        },
        "id": "612E-zwtNe4i",
        "outputId": "f8eb23fa-7afc-4d0d-80ce-a652d891031f"
      },
      "execution_count": 21,
      "outputs": [
        {
          "output_type": "stream",
          "name": "stdout",
          "text": [
            "9\n",
            "1\n"
          ]
        }
      ]
    },
    {
      "cell_type": "markdown",
      "source": [
        "#Reshaping the List"
      ],
      "metadata": {
        "id": "vECiMgcsQaQx"
      }
    },
    {
      "cell_type": "code",
      "source": [
        "L7=[1,2,3,4,5,6,7,8,9]\n",
        "L7=np.array(L7)\n",
        "print(L7.reshape(3,3))"
      ],
      "metadata": {
        "colab": {
          "base_uri": "https://localhost:8080/"
        },
        "id": "YzbrNEezQdkY",
        "outputId": "b493200f-dbcf-4499-c347-e36804891c42"
      },
      "execution_count": 22,
      "outputs": [
        {
          "output_type": "stream",
          "name": "stdout",
          "text": [
            "[[1 2 3]\n",
            " [4 5 6]\n",
            " [7 8 9]]\n"
          ]
        }
      ]
    },
    {
      "cell_type": "markdown",
      "source": [
        "#Summation of Matrix Element"
      ],
      "metadata": {
        "id": "TRJLyqfiTNFI"
      }
    },
    {
      "cell_type": "code",
      "source": [
        "L8=[[1,2,3],[4,5,6]]\n",
        "L8=np.array(L8)\n",
        "print(L8.sum())"
      ],
      "metadata": {
        "colab": {
          "base_uri": "https://localhost:8080/"
        },
        "id": "a-XSrfeCTQe9",
        "outputId": "e6457d69-57b7-496f-e246-3cf284d6c867"
      },
      "execution_count": 23,
      "outputs": [
        {
          "output_type": "stream",
          "name": "stdout",
          "text": [
            "21\n"
          ]
        }
      ]
    },
    {
      "cell_type": "markdown",
      "source": [
        "# Generate an output list with elements present at respective indices"
      ],
      "metadata": {
        "id": "6IPtkCH7Tvxk"
      }
    },
    {
      "cell_type": "code",
      "source": [
        "num = [10, 20, 30, 40, 50]\n",
        "i= [2, 0, 3, 1, 1]\n",
        "num=np.array(num)\n",
        "i=np.array(i)\n",
        "print(list(num[i]))"
      ],
      "metadata": {
        "colab": {
          "base_uri": "https://localhost:8080/"
        },
        "id": "NEkZntrfT-n2",
        "outputId": "96fd46cf-d5c6-428d-e46e-bca9ed46fa16"
      },
      "execution_count": 24,
      "outputs": [
        {
          "output_type": "stream",
          "name": "stdout",
          "text": [
            "[30, 10, 40, 20, 20]\n"
          ]
        }
      ]
    },
    {
      "cell_type": "markdown",
      "source": [
        "#Matrix Multiplication"
      ],
      "metadata": {
        "id": "DGH-S2nGUwoQ"
      }
    },
    {
      "cell_type": "code",
      "source": [
        "l8 = [[1, 2], [3, 4]]\n",
        "l9 = [[5, 6], [7, 8]]\n",
        "l8=np.array(l8)\n",
        "l9=np.array(l9)\n",
        "print(l8)\n",
        "print(l9)"
      ],
      "metadata": {
        "colab": {
          "base_uri": "https://localhost:8080/"
        },
        "id": "YW5QcMjZU0t-",
        "outputId": "dc64e629-e29e-461e-e6f7-9b1f31393039"
      },
      "execution_count": 26,
      "outputs": [
        {
          "output_type": "stream",
          "name": "stdout",
          "text": [
            "[[1 2]\n",
            " [3 4]]\n",
            "[[5 6]\n",
            " [7 8]]\n"
          ]
        }
      ]
    },
    {
      "cell_type": "code",
      "source": [
        "import numpy as np"
      ],
      "metadata": {
        "id": "SYCwoI8gg8eR"
      },
      "execution_count": 2,
      "outputs": []
    },
    {
      "cell_type": "code",
      "source": [
        "mat=np.array([[1,2,3,4],[4,5,6,7]])"
      ],
      "metadata": {
        "id": "ykY9bOJZhKSv"
      },
      "execution_count": 2,
      "outputs": []
    },
    {
      "cell_type": "code",
      "source": [
        "arr=np.arange(16)\n",
        "arr"
      ],
      "metadata": {
        "colab": {
          "base_uri": "https://localhost:8080/"
        },
        "id": "ll5o5rdahnmC",
        "outputId": "1d26bbcf-ae1c-4dfd-e5b5-466dd8d5008e"
      },
      "execution_count": 4,
      "outputs": [
        {
          "output_type": "execute_result",
          "data": {
            "text/plain": [
              "array([ 0,  1,  2,  3,  4,  5,  6,  7,  8,  9, 10, 11, 12, 13, 14, 15])"
            ]
          },
          "metadata": {},
          "execution_count": 4
        }
      ]
    },
    {
      "cell_type": "code",
      "source": [
        "arr.ndim,arr.shape"
      ],
      "metadata": {
        "colab": {
          "base_uri": "https://localhost:8080/"
        },
        "id": "wC8pBTPciIRr",
        "outputId": "caceee61-0a57-4576-aa0b-279d12399587"
      },
      "execution_count": 5,
      "outputs": [
        {
          "output_type": "execute_result",
          "data": {
            "text/plain": [
              "(1, (16,))"
            ]
          },
          "metadata": {},
          "execution_count": 5
        }
      ]
    },
    {
      "cell_type": "code",
      "source": [
        "mat=arr.reshape(4,4)\n",
        "mat"
      ],
      "metadata": {
        "colab": {
          "base_uri": "https://localhost:8080/"
        },
        "id": "LQlIqezaiRvj",
        "outputId": "c47eae16-d07f-4ae0-e66d-2ed12545fa62"
      },
      "execution_count": 6,
      "outputs": [
        {
          "output_type": "execute_result",
          "data": {
            "text/plain": [
              "array([[ 0,  1,  2,  3],\n",
              "       [ 4,  5,  6,  7],\n",
              "       [ 8,  9, 10, 11],\n",
              "       [12, 13, 14, 15]])"
            ]
          },
          "metadata": {},
          "execution_count": 6
        }
      ]
    },
    {
      "cell_type": "code",
      "source": [
        "mat.ndim,mat.shape"
      ],
      "metadata": {
        "colab": {
          "base_uri": "https://localhost:8080/"
        },
        "id": "H-BsqqD9i11B",
        "outputId": "1bb94308-b307-4331-8687-c7c95ccc3bc8"
      },
      "execution_count": 7,
      "outputs": [
        {
          "output_type": "execute_result",
          "data": {
            "text/plain": [
              "(2, (4, 4))"
            ]
          },
          "metadata": {},
          "execution_count": 7
        }
      ]
    },
    {
      "cell_type": "code",
      "source": [
        "arr1=mat\n",
        "print(arr1.T)\n"
      ],
      "metadata": {
        "colab": {
          "base_uri": "https://localhost:8080/"
        },
        "id": "4Ppc4IMXi7iZ",
        "outputId": "27e77946-ce8e-40ac-8346-5858a89c4e1f"
      },
      "execution_count": 8,
      "outputs": [
        {
          "output_type": "stream",
          "name": "stdout",
          "text": [
            "[[ 0  4  8 12]\n",
            " [ 1  5  9 13]\n",
            " [ 2  6 10 14]\n",
            " [ 3  7 11 15]]\n"
          ]
        }
      ]
    },
    {
      "cell_type": "code",
      "source": [
        "m1=np.arange(1,10).reshape(3,3)\n",
        "m1"
      ],
      "metadata": {
        "colab": {
          "base_uri": "https://localhost:8080/"
        },
        "id": "lb0-alsAldPT",
        "outputId": "7457aa2f-9d94-47fa-b6fc-830e985176b4"
      },
      "execution_count": 9,
      "outputs": [
        {
          "output_type": "execute_result",
          "data": {
            "text/plain": [
              "array([[1, 2, 3],\n",
              "       [4, 5, 6],\n",
              "       [7, 8, 9]])"
            ]
          },
          "metadata": {},
          "execution_count": 9
        }
      ]
    },
    {
      "cell_type": "code",
      "source": [
        "m1[0]"
      ],
      "metadata": {
        "colab": {
          "base_uri": "https://localhost:8080/"
        },
        "id": "I0WhinFslnDs",
        "outputId": "bd32318a-6ffd-405d-e8f5-8823bf016b39"
      },
      "execution_count": 13,
      "outputs": [
        {
          "output_type": "execute_result",
          "data": {
            "text/plain": [
              "array([1, 2, 3])"
            ]
          },
          "metadata": {},
          "execution_count": 13
        }
      ]
    },
    {
      "cell_type": "code",
      "source": [
        "m1[0][1]"
      ],
      "metadata": {
        "colab": {
          "base_uri": "https://localhost:8080/"
        },
        "id": "QZSUPPsCmNQx",
        "outputId": "329b85b5-811a-485c-ce2c-d6df90596823"
      },
      "execution_count": 14,
      "outputs": [
        {
          "output_type": "execute_result",
          "data": {
            "text/plain": [
              "2"
            ]
          },
          "metadata": {},
          "execution_count": 14
        }
      ]
    },
    {
      "cell_type": "markdown",
      "source": [
        "#This is only works in numpy"
      ],
      "metadata": {
        "id": "Cl9yBwIPmQTN"
      }
    },
    {
      "cell_type": "code",
      "source": [
        "m1[0,1] # is same as m1[0][1]"
      ],
      "metadata": {
        "colab": {
          "base_uri": "https://localhost:8080/"
        },
        "id": "fkUt_3jmmaCi",
        "outputId": "1525253b-b5f2-44ac-9374-a56dce229456"
      },
      "execution_count": 17,
      "outputs": [
        {
          "output_type": "execute_result",
          "data": {
            "text/plain": [
              "2"
            ]
          },
          "metadata": {},
          "execution_count": 17
        }
      ]
    },
    {
      "cell_type": "code",
      "source": [
        "m1[1,2] # is same as m1[1][2]"
      ],
      "metadata": {
        "colab": {
          "base_uri": "https://localhost:8080/"
        },
        "id": "sSKJYJBpmhty",
        "outputId": "6ff1438f-2f80-493e-f513-4399d49b4738"
      },
      "execution_count": 18,
      "outputs": [
        {
          "output_type": "execute_result",
          "data": {
            "text/plain": [
              "6"
            ]
          },
          "metadata": {},
          "execution_count": 18
        }
      ]
    },
    {
      "cell_type": "code",
      "source": [
        "m1"
      ],
      "metadata": {
        "colab": {
          "base_uri": "https://localhost:8080/"
        },
        "id": "uavutsTjn92v",
        "outputId": "cfd65f45-6575-4f76-d778-c5f4a27e3a3d"
      },
      "execution_count": 19,
      "outputs": [
        {
          "output_type": "execute_result",
          "data": {
            "text/plain": [
              "array([[1, 2, 3],\n",
              "       [4, 5, 6],\n",
              "       [7, 8, 9]])"
            ]
          },
          "metadata": {},
          "execution_count": 19
        }
      ]
    },
    {
      "cell_type": "code",
      "source": [
        "m1[[1,2]]"
      ],
      "metadata": {
        "colab": {
          "base_uri": "https://localhost:8080/"
        },
        "id": "ueadBzrKoAEE",
        "outputId": "2fdbc15b-24fc-45b0-b6cc-54cc5b72e2d6"
      },
      "execution_count": 20,
      "outputs": [
        {
          "output_type": "execute_result",
          "data": {
            "text/plain": [
              "array([[4, 5, 6],\n",
              "       [7, 8, 9]])"
            ]
          },
          "metadata": {},
          "execution_count": 20
        }
      ]
    },
    {
      "cell_type": "code",
      "source": [
        "index=[[1,2],[1,2]]\n",
        "m1[index]"
      ],
      "metadata": {
        "colab": {
          "base_uri": "https://localhost:8080/"
        },
        "id": "xVN5vkJroVt1",
        "outputId": "e4b3b7ac-801f-4746-e9f8-f9c19691213e"
      },
      "execution_count": 22,
      "outputs": [
        {
          "output_type": "execute_result",
          "data": {
            "text/plain": [
              "array([[[4, 5, 6],\n",
              "        [7, 8, 9]],\n",
              "\n",
              "       [[4, 5, 6],\n",
              "        [7, 8, 9]]])"
            ]
          },
          "metadata": {},
          "execution_count": 22
        }
      ]
    },
    {
      "cell_type": "code",
      "source": [
        "m1"
      ],
      "metadata": {
        "colab": {
          "base_uri": "https://localhost:8080/"
        },
        "id": "fleksMcVqgdN",
        "outputId": "238fb53c-f998-4431-c2d5-6e28e048cecc"
      },
      "execution_count": 23,
      "outputs": [
        {
          "output_type": "execute_result",
          "data": {
            "text/plain": [
              "array([[1, 2, 3],\n",
              "       [4, 5, 6],\n",
              "       [7, 8, 9]])"
            ]
          },
          "metadata": {},
          "execution_count": 23
        }
      ]
    },
    {
      "cell_type": "code",
      "source": [
        "m1[:,:]"
      ],
      "metadata": {
        "colab": {
          "base_uri": "https://localhost:8080/"
        },
        "id": "zBGAJSCOqjNG",
        "outputId": "0d8e39a4-0629-45c1-f562-12eb14b06654"
      },
      "execution_count": 24,
      "outputs": [
        {
          "output_type": "execute_result",
          "data": {
            "text/plain": [
              "array([[1, 2, 3],\n",
              "       [4, 5, 6],\n",
              "       [7, 8, 9]])"
            ]
          },
          "metadata": {},
          "execution_count": 24
        }
      ]
    },
    {
      "cell_type": "code",
      "source": [
        "m1[:,1]"
      ],
      "metadata": {
        "colab": {
          "base_uri": "https://localhost:8080/"
        },
        "id": "yZGHv8A1qs_R",
        "outputId": "8f016b3a-94f4-4adb-ac89-d15c164ac49e"
      },
      "execution_count": 25,
      "outputs": [
        {
          "output_type": "execute_result",
          "data": {
            "text/plain": [
              "array([2, 5, 8])"
            ]
          },
          "metadata": {},
          "execution_count": 25
        }
      ]
    },
    {
      "cell_type": "code",
      "source": [
        "m1[1,:]"
      ],
      "metadata": {
        "colab": {
          "base_uri": "https://localhost:8080/"
        },
        "id": "xzYe4LSHrCHp",
        "outputId": "a87bc7d4-dce7-4a97-c695-0555fa9d387c"
      },
      "execution_count": 26,
      "outputs": [
        {
          "output_type": "execute_result",
          "data": {
            "text/plain": [
              "array([4, 5, 6])"
            ]
          },
          "metadata": {},
          "execution_count": 26
        }
      ]
    },
    {
      "cell_type": "code",
      "source": [
        "m1[:,1]=-1\n",
        "m1"
      ],
      "metadata": {
        "colab": {
          "base_uri": "https://localhost:8080/"
        },
        "id": "3Sjw-4SosgTT",
        "outputId": "eab6dbcd-3bdd-4667-800e-22dfc358d380"
      },
      "execution_count": 27,
      "outputs": [
        {
          "output_type": "execute_result",
          "data": {
            "text/plain": [
              "array([[ 1, -1,  3],\n",
              "       [ 4, -1,  6],\n",
              "       [ 7, -1,  9]])"
            ]
          },
          "metadata": {},
          "execution_count": 27
        }
      ]
    },
    {
      "cell_type": "code",
      "source": [
        "m2=np.arange(1,13).reshape(3,4)\n",
        "m2"
      ],
      "metadata": {
        "colab": {
          "base_uri": "https://localhost:8080/"
        },
        "id": "jtxaz9lissYE",
        "outputId": "61faec5e-09e5-4fcf-e95f-1487e6499cb3"
      },
      "execution_count": 5,
      "outputs": [
        {
          "output_type": "execute_result",
          "data": {
            "text/plain": [
              "array([[ 1,  2,  3,  4],\n",
              "       [ 5,  6,  7,  8],\n",
              "       [ 9, 10, 11, 12]])"
            ]
          },
          "metadata": {},
          "execution_count": 5
        }
      ]
    },
    {
      "cell_type": "code",
      "source": [
        "m2<6"
      ],
      "metadata": {
        "colab": {
          "base_uri": "https://localhost:8080/"
        },
        "id": "bzzKYDsgPwUs",
        "outputId": "3492b64a-0886-492b-a047-547a5e3e8f65"
      },
      "execution_count": 6,
      "outputs": [
        {
          "output_type": "execute_result",
          "data": {
            "text/plain": [
              "array([[ True,  True,  True,  True],\n",
              "       [ True, False, False, False],\n",
              "       [False, False, False, False]])"
            ]
          },
          "metadata": {},
          "execution_count": 6
        }
      ]
    },
    {
      "cell_type": "code",
      "source": [
        "m2[m2<6]"
      ],
      "metadata": {
        "colab": {
          "base_uri": "https://localhost:8080/"
        },
        "id": "X-zMIfZfP11a",
        "outputId": "a20f0753-af59-404d-e93a-09b1f44e952c"
      },
      "execution_count": 7,
      "outputs": [
        {
          "output_type": "execute_result",
          "data": {
            "text/plain": [
              "array([1, 2, 3, 4, 5])"
            ]
          },
          "metadata": {},
          "execution_count": 7
        }
      ]
    },
    {
      "cell_type": "code",
      "source": [
        "ar=np.array([1,2,3,4,5,6,7,8])\n",
        "ar%2==0"
      ],
      "metadata": {
        "colab": {
          "base_uri": "https://localhost:8080/"
        },
        "id": "0dNoQtwvRRxQ",
        "outputId": "cd225a6e-55d0-4e2a-9dfb-df0769003bb3"
      },
      "execution_count": 8,
      "outputs": [
        {
          "output_type": "execute_result",
          "data": {
            "text/plain": [
              "array([False,  True, False,  True, False,  True, False,  True])"
            ]
          },
          "metadata": {},
          "execution_count": 8
        }
      ]
    },
    {
      "cell_type": "code",
      "source": [
        "mask=ar%2==0\n",
        "mask"
      ],
      "metadata": {
        "colab": {
          "base_uri": "https://localhost:8080/"
        },
        "id": "TJkglkbXRfio",
        "outputId": "db175cd6-1fb1-4c7c-9378-3308ae1c768f"
      },
      "execution_count": 10,
      "outputs": [
        {
          "output_type": "execute_result",
          "data": {
            "text/plain": [
              "array([False,  True, False,  True, False,  True, False,  True])"
            ]
          },
          "metadata": {},
          "execution_count": 10
        }
      ]
    },
    {
      "cell_type": "code",
      "source": [
        "mask=ar[ar%2==0]\n",
        "mask"
      ],
      "metadata": {
        "colab": {
          "base_uri": "https://localhost:8080/"
        },
        "id": "apztkoV4R0is",
        "outputId": "819fb31d-1395-4189-9ba0-c6f462be6334"
      },
      "execution_count": 11,
      "outputs": [
        {
          "output_type": "execute_result",
          "data": {
            "text/plain": [
              "array([2, 4, 6, 8])"
            ]
          },
          "metadata": {},
          "execution_count": 11
        }
      ]
    },
    {
      "cell_type": "code",
      "source": [
        "ar[ar%2==0]=-1\n",
        "ar"
      ],
      "metadata": {
        "colab": {
          "base_uri": "https://localhost:8080/"
        },
        "id": "RKJStxRtR7tb",
        "outputId": "5a26b35a-56f5-4962-ac2b-b43f928a53b6"
      },
      "execution_count": 12,
      "outputs": [
        {
          "output_type": "execute_result",
          "data": {
            "text/plain": [
              "array([ 1, -1,  3, -1,  5, -1,  7, -1])"
            ]
          },
          "metadata": {},
          "execution_count": 12
        }
      ]
    },
    {
      "cell_type": "markdown",
      "source": [
        "#Agrregate Function"
      ],
      "metadata": {
        "id": "JIgv-yS0SY72"
      }
    },
    {
      "cell_type": "code",
      "source": [
        "a1=np.array([1,2,3,4,5,6,7,8,9])\n",
        "m1=np.arange(1,13).reshape(3,4)\n",
        "a1,m1"
      ],
      "metadata": {
        "colab": {
          "base_uri": "https://localhost:8080/"
        },
        "id": "0CY3ZyccSesG",
        "outputId": "1b1d91cc-1877-4de5-d1ae-682a97c5cd69"
      },
      "execution_count": 13,
      "outputs": [
        {
          "output_type": "execute_result",
          "data": {
            "text/plain": [
              "(array([1, 2, 3, 4, 5, 6, 7, 8, 9]),\n",
              " array([[ 1,  2,  3,  4],\n",
              "        [ 5,  6,  7,  8],\n",
              "        [ 9, 10, 11, 12]]))"
            ]
          },
          "metadata": {},
          "execution_count": 13
        }
      ]
    },
    {
      "cell_type": "code",
      "source": [
        "s1=np.sum(a1)\n",
        "s2=np.sum(m1)\n",
        "s1,s2"
      ],
      "metadata": {
        "colab": {
          "base_uri": "https://localhost:8080/"
        },
        "id": "b1pF5ibqS32x",
        "outputId": "60c1788f-8c70-47a5-a6bc-9917cbf77b1e"
      },
      "execution_count": 16,
      "outputs": [
        {
          "output_type": "execute_result",
          "data": {
            "text/plain": [
              "(45, 78)"
            ]
          },
          "metadata": {},
          "execution_count": 16
        }
      ]
    },
    {
      "cell_type": "code",
      "source": [
        "min1=np.min(a1)\n",
        "min2=np.min(m1)\n",
        "min1,min2"
      ],
      "metadata": {
        "colab": {
          "base_uri": "https://localhost:8080/"
        },
        "id": "PvMt0sCDTdDJ",
        "outputId": "0010b827-7a41-41f1-bd01-c2547d9e2c69"
      },
      "execution_count": 17,
      "outputs": [
        {
          "output_type": "execute_result",
          "data": {
            "text/plain": [
              "(1, 1)"
            ]
          },
          "metadata": {},
          "execution_count": 17
        }
      ]
    },
    {
      "cell_type": "code",
      "source": [
        "max1=np.max(a1)\n",
        "max2=np.max(m1)\n",
        "max1,max2"
      ],
      "metadata": {
        "colab": {
          "base_uri": "https://localhost:8080/"
        },
        "id": "lrGpt8aJT34Q",
        "outputId": "c4ee12dc-428a-41da-97c5-fa9297b77542"
      },
      "execution_count": 18,
      "outputs": [
        {
          "output_type": "execute_result",
          "data": {
            "text/plain": [
              "(9, 12)"
            ]
          },
          "metadata": {},
          "execution_count": 18
        }
      ]
    },
    {
      "cell_type": "code",
      "source": [
        "mean1=np.mean(a1)\n",
        "mean2=np.mean(m1)\n",
        "mean1,mean2"
      ],
      "metadata": {
        "colab": {
          "base_uri": "https://localhost:8080/"
        },
        "id": "QKXrJntpUBRs",
        "outputId": "ae40da71-0503-4edd-a772-3010801bd98b"
      },
      "execution_count": 19,
      "outputs": [
        {
          "output_type": "execute_result",
          "data": {
            "text/plain": [
              "(5.0, 6.5)"
            ]
          },
          "metadata": {},
          "execution_count": 19
        }
      ]
    },
    {
      "cell_type": "code",
      "source": [
        "m1"
      ],
      "metadata": {
        "colab": {
          "base_uri": "https://localhost:8080/"
        },
        "id": "RAi2-qa6UT5F",
        "outputId": "0e2408bd-4bfc-4a43-9f12-0bb2acf9b140"
      },
      "execution_count": 20,
      "outputs": [
        {
          "output_type": "execute_result",
          "data": {
            "text/plain": [
              "array([[ 1,  2,  3,  4],\n",
              "       [ 5,  6,  7,  8],\n",
              "       [ 9, 10, 11, 12]])"
            ]
          },
          "metadata": {},
          "execution_count": 20
        }
      ]
    },
    {
      "cell_type": "code",
      "source": [
        "#mean of  each rows\n",
        "np.mean(m1,axis=1)"
      ],
      "metadata": {
        "colab": {
          "base_uri": "https://localhost:8080/"
        },
        "id": "9B7btHJdVhSb",
        "outputId": "604df1fb-4ac4-4da9-84c6-69627abb7f78"
      },
      "execution_count": 23,
      "outputs": [
        {
          "output_type": "execute_result",
          "data": {
            "text/plain": [
              "array([ 2.5,  6.5, 10.5])"
            ]
          },
          "metadata": {},
          "execution_count": 23
        }
      ]
    },
    {
      "cell_type": "code",
      "source": [
        "np.mean(m1,axis=1)[0]"
      ],
      "metadata": {
        "colab": {
          "base_uri": "https://localhost:8080/"
        },
        "id": "syLQpj-4WidJ",
        "outputId": "bdf2c153-4288-4c6c-f555-9c01b9da2595"
      },
      "execution_count": 24,
      "outputs": [
        {
          "output_type": "execute_result",
          "data": {
            "text/plain": [
              "2.5"
            ]
          },
          "metadata": {},
          "execution_count": 24
        }
      ]
    },
    {
      "cell_type": "code",
      "source": [
        "np.mean(m1,axis=1)[1]"
      ],
      "metadata": {
        "colab": {
          "base_uri": "https://localhost:8080/"
        },
        "id": "tcBgIvt5WrbS",
        "outputId": "c3c743f0-6085-475f-82fd-d97abc1e9f66"
      },
      "execution_count": 25,
      "outputs": [
        {
          "output_type": "execute_result",
          "data": {
            "text/plain": [
              "6.5"
            ]
          },
          "metadata": {},
          "execution_count": 25
        }
      ]
    },
    {
      "cell_type": "code",
      "source": [
        "np.mean(m1,axis=1)[2]"
      ],
      "metadata": {
        "colab": {
          "base_uri": "https://localhost:8080/"
        },
        "id": "QewBW-qTWyw4",
        "outputId": "8b7f5711-8856-4664-8b1a-88db93d1f4e0"
      },
      "execution_count": 26,
      "outputs": [
        {
          "output_type": "execute_result",
          "data": {
            "text/plain": [
              "10.5"
            ]
          },
          "metadata": {},
          "execution_count": 26
        }
      ]
    },
    {
      "cell_type": "code",
      "source": [
        "#mean of each column\n",
        "np.mean(m1,axis=0)"
      ],
      "metadata": {
        "colab": {
          "base_uri": "https://localhost:8080/"
        },
        "id": "YbHpni8TV0-_",
        "outputId": "b7e989e4-134d-4f6e-9c57-f038073c0b79"
      },
      "execution_count": 22,
      "outputs": [
        {
          "output_type": "execute_result",
          "data": {
            "text/plain": [
              "array([5., 6., 7., 8.])"
            ]
          },
          "metadata": {},
          "execution_count": 22
        }
      ]
    },
    {
      "cell_type": "code",
      "source": [
        "np.mean(m1,axis=0)[0]"
      ],
      "metadata": {
        "colab": {
          "base_uri": "https://localhost:8080/"
        },
        "id": "mMPdaiZHW9H8",
        "outputId": "69d58d87-5e09-40f3-c5f9-bd900067c2b7"
      },
      "execution_count": 27,
      "outputs": [
        {
          "output_type": "execute_result",
          "data": {
            "text/plain": [
              "5.0"
            ]
          },
          "metadata": {},
          "execution_count": 27
        }
      ]
    },
    {
      "cell_type": "code",
      "source": [
        "np.mean(m1[:,0])"
      ],
      "metadata": {
        "colab": {
          "base_uri": "https://localhost:8080/"
        },
        "id": "Qxn4FfNXZisk",
        "outputId": "4d10540d-865b-4f55-9d8a-013b7b4c0206"
      },
      "execution_count": 32,
      "outputs": [
        {
          "output_type": "execute_result",
          "data": {
            "text/plain": [
              "5.0"
            ]
          },
          "metadata": {},
          "execution_count": 32
        }
      ]
    },
    {
      "cell_type": "code",
      "source": [
        "np.mean(m1,axis=0)[1]"
      ],
      "metadata": {
        "colab": {
          "base_uri": "https://localhost:8080/"
        },
        "id": "w-hGV96GXD_1",
        "outputId": "dd57f14a-bb9c-4c8c-a95f-5f8b87067757"
      },
      "execution_count": 30,
      "outputs": [
        {
          "output_type": "execute_result",
          "data": {
            "text/plain": [
              "6.0"
            ]
          },
          "metadata": {},
          "execution_count": 30
        }
      ]
    },
    {
      "cell_type": "code",
      "source": [
        "np.mean(m1[:,1])"
      ],
      "metadata": {
        "colab": {
          "base_uri": "https://localhost:8080/"
        },
        "id": "RI9JnDDGZrlN",
        "outputId": "9bd9e756-4ffc-4acf-f8a4-6197a4fdc2ec"
      },
      "execution_count": 33,
      "outputs": [
        {
          "output_type": "execute_result",
          "data": {
            "text/plain": [
              "6.0"
            ]
          },
          "metadata": {},
          "execution_count": 33
        }
      ]
    },
    {
      "cell_type": "code",
      "source": [
        "np.mean(m1,axis=0)[2]"
      ],
      "metadata": {
        "colab": {
          "base_uri": "https://localhost:8080/"
        },
        "id": "T5syVAl1XIMF",
        "outputId": "f55e6f99-0b68-4a33-d320-9f1b0dff8556"
      },
      "execution_count": 31,
      "outputs": [
        {
          "output_type": "execute_result",
          "data": {
            "text/plain": [
              "7.0"
            ]
          },
          "metadata": {},
          "execution_count": 31
        }
      ]
    },
    {
      "cell_type": "code",
      "source": [
        "np.mean(m1[:,2])"
      ],
      "metadata": {
        "colab": {
          "base_uri": "https://localhost:8080/"
        },
        "id": "svQDbYuFZuXT",
        "outputId": "64e76d13-222f-45cc-f06e-bb80b91cbd48"
      },
      "execution_count": 34,
      "outputs": [
        {
          "output_type": "execute_result",
          "data": {
            "text/plain": [
              "7.0"
            ]
          },
          "metadata": {},
          "execution_count": 34
        }
      ]
    },
    {
      "cell_type": "markdown",
      "source": [
        "#Logical Operations like any/all/where"
      ],
      "metadata": {
        "id": "HDbDcMvEbyPz"
      }
    },
    {
      "cell_type": "code",
      "source": [
        "arr=np.array([50,25,64,30,41,10])\n",
        "budget=30\n",
        "tr=np.any(arr<budget)\n",
        "tr"
      ],
      "metadata": {
        "colab": {
          "base_uri": "https://localhost:8080/"
        },
        "id": "h5BL5AOqb5lP",
        "outputId": "d34a74f3-cd16-42ab-fdbe-3b7d89abe83c"
      },
      "execution_count": 35,
      "outputs": [
        {
          "output_type": "execute_result",
          "data": {
            "text/plain": [
              "True"
            ]
          },
          "metadata": {},
          "execution_count": 35
        }
      ]
    },
    {
      "cell_type": "code",
      "source": [
        "arr=np.array([50,25,64,30,41,10])\n",
        "budget=30\n",
        "tr=np.all(arr<budget)\n",
        "tr"
      ],
      "metadata": {
        "colab": {
          "base_uri": "https://localhost:8080/"
        },
        "id": "hA8CUX7rdUAH",
        "outputId": "327a63cb-4065-4a8b-a747-2c8eb284e274"
      },
      "execution_count": 36,
      "outputs": [
        {
          "output_type": "execute_result",
          "data": {
            "text/plain": [
              "False"
            ]
          },
          "metadata": {},
          "execution_count": 36
        }
      ]
    },
    {
      "cell_type": "markdown",
      "source": [
        "#apply 10% discount on item whose price is grater than or equal to 50"
      ],
      "metadata": {
        "id": "NipV6b_fdo_1"
      }
    },
    {
      "cell_type": "code",
      "source": [
        "arr=np.array([50,25,64,30,41,10])\n",
        "tr=np.where(arr>=50,0.9*arr,arr)\n",
        "tr"
      ],
      "metadata": {
        "colab": {
          "base_uri": "https://localhost:8080/"
        },
        "id": "3hFjddSGd0RK",
        "outputId": "68ed2f87-c602-42e1-df44-6cca37ed8150"
      },
      "execution_count": 37,
      "outputs": [
        {
          "output_type": "execute_result",
          "data": {
            "text/plain": [
              "array([45. , 25. , 57.6, 30. , 41. , 10. ])"
            ]
          },
          "metadata": {},
          "execution_count": 37
        }
      ]
    },
    {
      "cell_type": "markdown",
      "source": [
        "#fit.txt task"
      ],
      "metadata": {
        "id": "QsekKiYYyaCB"
      }
    },
    {
      "cell_type": "code",
      "source": [
        "import numpy as np"
      ],
      "metadata": {
        "id": "zEhHbZypWAU9"
      },
      "execution_count": 1,
      "outputs": []
    },
    {
      "cell_type": "code",
      "source": [
        "data=np.loadtxt('fit.txt',dtype='str')"
      ],
      "metadata": {
        "id": "VurgNZRYWH7o"
      },
      "execution_count": 10,
      "outputs": []
    },
    {
      "cell_type": "code",
      "source": [
        "data.shape"
      ],
      "metadata": {
        "colab": {
          "base_uri": "https://localhost:8080/"
        },
        "id": "gPz9LQoGXdK-",
        "outputId": "8fc1ea54-081d-48d3-9f24-422facabb4bc"
      },
      "execution_count": 3,
      "outputs": [
        {
          "output_type": "execute_result",
          "data": {
            "text/plain": [
              "(96, 6)"
            ]
          },
          "metadata": {},
          "execution_count": 3
        }
      ]
    },
    {
      "cell_type": "markdown",
      "source": [
        "###Number of unique mood set"
      ],
      "metadata": {
        "id": "2CzL5IsMaFFF"
      }
    },
    {
      "cell_type": "code",
      "source": [
        "moodset=data[:,2:3]\n",
        "unique_m=np.unique(moodset)\n",
        "unique_m"
      ],
      "metadata": {
        "colab": {
          "base_uri": "https://localhost:8080/"
        },
        "id": "oSkr8rG2XieQ",
        "outputId": "948f2f2d-f749-4f52-d6b3-ba6879c48670"
      },
      "execution_count": 7,
      "outputs": [
        {
          "output_type": "execute_result",
          "data": {
            "text/plain": [
              "array(['Happy', 'Neutral', 'Sad'], dtype='<U10')"
            ]
          },
          "metadata": {},
          "execution_count": 7
        }
      ]
    },
    {
      "cell_type": "markdown",
      "source": [
        "###Average number of stepcount across each moodset"
      ],
      "metadata": {
        "id": "OAZtXkwrbDT-"
      }
    },
    {
      "cell_type": "code",
      "source": [
        "#Happy\n",
        "Happy_mset=np.where(data[:,2]=='Happy',data[:,1], None) # Extracting all the stepcount values of 'Happy'\n",
        "Happy_mset=Happy_mset[Happy_mset!=None].astype(np.int32) #Converting str to int and discarding 'None' value\n",
        "\n",
        "#Neutral\n",
        "Neutral_mset=np.where(data[:,2]=='Neutral',data[:,1], None)\n",
        "Neutral_mset=Neutral_mset[Neutral_mset!=None].astype(np.int32)\n",
        "\n",
        "#Sad\n",
        "Sad_mset=np.where(data[:,2]=='Sad',data[:,1], None)\n",
        "Sad_mset=Sad_mset[Sad_mset!=None].astype(np.int32)\n",
        "\n",
        "H=round(np.mean(Happy_mset),2)\n",
        "N=round(np.mean(Neutral_mset),2)\n",
        "S=round(np.mean(Sad_mset),2)\n",
        "\n",
        "H,N,S"
      ],
      "metadata": {
        "colab": {
          "base_uri": "https://localhost:8080/"
        },
        "id": "sOxWSJ6Uaqn2",
        "outputId": "169ad8be-3905-446e-9740-34ab237df400"
      },
      "execution_count": 27,
      "outputs": [
        {
          "output_type": "execute_result",
          "data": {
            "text/plain": [
              "(3392.72, 3153.78, 2103.07)"
            ]
          },
          "metadata": {},
          "execution_count": 27
        }
      ]
    },
    {
      "cell_type": "markdown",
      "source": [
        "#Date on which user walked the most i.e max"
      ],
      "metadata": {
        "id": "snC168XCtsHp"
      }
    },
    {
      "cell_type": "code",
      "source": [
        "step_count=list(data[:,1].astype(np.int32))\n",
        "max_stepcount=max(step_count)\n",
        "i=step_count.index(max_stepcount)\n",
        "data[i,0]"
      ],
      "metadata": {
        "colab": {
          "base_uri": "https://localhost:8080/",
          "height": 36
        },
        "id": "Kjm4MBpXtkEU",
        "outputId": "c529dc04-bfb3-44dd-bbcb-03f2f11e97c2"
      },
      "execution_count": 38,
      "outputs": [
        {
          "output_type": "execute_result",
          "data": {
            "text/plain": [
              "'14-12-2017'"
            ],
            "application/vnd.google.colaboratory.intrinsic+json": {
              "type": "string"
            }
          },
          "metadata": {},
          "execution_count": 38
        }
      ]
    }
  ]
}