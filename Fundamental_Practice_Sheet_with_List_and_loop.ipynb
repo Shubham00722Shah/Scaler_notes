{
  "nbformat": 4,
  "nbformat_minor": 0,
  "metadata": {
    "colab": {
      "provenance": [],
      "authorship_tag": "ABX9TyPkclMrNJJ0K5BV2F15wq/x",
      "include_colab_link": true
    },
    "kernelspec": {
      "name": "python3",
      "display_name": "Python 3"
    },
    "language_info": {
      "name": "python"
    }
  },
  "cells": [
    {
      "cell_type": "markdown",
      "metadata": {
        "id": "view-in-github",
        "colab_type": "text"
      },
      "source": [
        "<a href=\"https://colab.research.google.com/github/Shubham00722Shah/test_repo_aug/blob/main/Fundamental_Practice_Sheet_with_List_and_loop.ipynb\" target=\"_parent\"><img src=\"https://colab.research.google.com/assets/colab-badge.svg\" alt=\"Open In Colab\"/></a>"
      ]
    },
    {
      "cell_type": "markdown",
      "source": [
        "## Question 1a: Scalar Multiplication of Lists\n",
        "\n",
        "Given a List of numbers, generate a new list with every number multiplied by 2\n",
        "```\n",
        "input:\n",
        "[1, 2, 3, 4, 5]\n",
        "\n",
        "output:\n",
        "[1, 4, 6, 8, 10]\n",
        "```"
      ],
      "metadata": {
        "id": "NmLHKYIaodj9"
      }
    },
    {
      "cell_type": "code",
      "source": [
        "ls=[i for i in range(1,int(input('Enter the length of the list:'))+1)] #input List\n",
        "print(ls)\n",
        "ls1=[i*2 for i in ls] #Scalar multiplication\n",
        "print(ls1)"
      ],
      "metadata": {
        "colab": {
          "base_uri": "https://localhost:8080/"
        },
        "id": "kiXoTx6Noj2V",
        "outputId": "b5484bfe-786e-4445-9830-3dba0a5f6f29"
      },
      "execution_count": 1,
      "outputs": [
        {
          "output_type": "stream",
          "name": "stdout",
          "text": [
            "Enter the length of the list:5\n",
            "[1, 2, 3, 4, 5]\n",
            "[2, 4, 6, 8, 10]\n"
          ]
        }
      ]
    },
    {
      "cell_type": "markdown",
      "source": [
        "## Question 2: Element-wise Arithmetic Operations\n",
        "\n",
        "**Q: Given two Lists of equal length, create a new list containing the element-wise sum of corresponding elements.**\n",
        "\n",
        "```\n",
        "input:\n",
        "list1 = [1, 2, 3, 4, 5]\n",
        "list2 = [6, 7, 8, 9, 10]\n",
        "\n",
        "output:\n",
        "[7, 9, 11, 13, 15]\n",
        "```"
      ],
      "metadata": {
        "id": "NufKBaAeqf6O"
      }
    },
    {
      "cell_type": "code",
      "source": [
        "l1=[1,2,3,4,5]\n",
        "l2=[6,7,8,9,10]\n",
        "print(l1)\n",
        "print(l2)\n",
        "if len(l1)==len(l2):\n",
        "  l3=zip(l1,l2) #combining two list\n",
        "  l3=list(l3) #converting to list\n",
        "\n",
        "res=[i+j for i,j in l3]\n",
        "print(res)"
      ],
      "metadata": {
        "colab": {
          "base_uri": "https://localhost:8080/"
        },
        "id": "MhBhYZqMquKV",
        "outputId": "54709b90-0a51-410f-ae6f-12e6142a1805"
      },
      "execution_count": 2,
      "outputs": [
        {
          "output_type": "stream",
          "name": "stdout",
          "text": [
            "[1, 2, 3, 4, 5]\n",
            "[6, 7, 8, 9, 10]\n",
            "[7, 9, 11, 13, 15]\n"
          ]
        }
      ]
    },
    {
      "cell_type": "markdown",
      "source": [
        "## Question 3: Filtering Elements\n",
        "\n",
        "**Q: Given a List of numbers, create a new list containing only the even numbers.**\n",
        "\n",
        "```\n",
        "input:\n",
        "[1, 2, 3, 4, 5, 6, 7, 8, 9, 10]\n",
        "\n",
        "output:\n",
        "[2, 4, 6, 8, 10]\n",
        "```"
      ],
      "metadata": {
        "id": "B8-twjJxsB1i"
      }
    },
    {
      "cell_type": "code",
      "source": [
        "length=int(input(\"Enter the length of th list:\"))\n",
        "ls=[]\n",
        "for i in range(1,length+1):\n",
        "  n=int(input())\n",
        "  ls.append(n)\n",
        "res=[j for j in ls if j%2==0]\n",
        "print(ls)\n",
        "print(res)"
      ],
      "metadata": {
        "colab": {
          "base_uri": "https://localhost:8080/"
        },
        "id": "3c1D_kI5sSdd",
        "outputId": "37bfe96c-d694-45ff-8930-ec7c2982328c"
      },
      "execution_count": 3,
      "outputs": [
        {
          "output_type": "stream",
          "name": "stdout",
          "text": [
            "Enter the length of th list:10\n",
            "1\n",
            "2\n",
            "3\n",
            "4\n",
            "5\n",
            "6\n",
            "7\n",
            "8\n",
            "9\n",
            "10\n",
            "[1, 2, 3, 4, 5, 6, 7, 8, 9, 10]\n",
            "[2, 4, 6, 8, 10]\n"
          ]
        }
      ]
    },
    {
      "cell_type": "markdown",
      "source": [
        "## Question 4: Finding Maximum and Minimum Values\n",
        "\n",
        "**Q: Given a List of numbers, find the maximum and minimum values in the list.**\n",
        "\n",
        "```\n",
        "input:\n",
        "[3, 7, 1, 9, 5]\n",
        "\n",
        "output:\n",
        "Maximum: 9\n",
        "Minimum: 1\n",
        "```"
      ],
      "metadata": {
        "id": "4b_Kq5iSt-Pc"
      }
    },
    {
      "cell_type": "code",
      "source": [
        "length=int(input(\"Enter the length of th list:\"))\n",
        "ls=[]\n",
        "for i in range(1,length+1):\n",
        "  n=int(input())\n",
        "  ls.append(n)\n",
        "print(ls)\n",
        "print(f'Maximum:{max(ls)}')\n",
        "print(f'Minimum:{min(ls)}')"
      ],
      "metadata": {
        "colab": {
          "base_uri": "https://localhost:8080/"
        },
        "id": "FpWWSsSquio0",
        "outputId": "affdf500-61d2-4b27-e956-93af8f255c74"
      },
      "execution_count": 4,
      "outputs": [
        {
          "output_type": "stream",
          "name": "stdout",
          "text": [
            "Enter the length of th list:5\n",
            "5\n",
            "3\n",
            "7\n",
            "1\n",
            "9\n",
            "[5, 3, 7, 1, 9]\n",
            "Maximum:9\n",
            "Minimum:1\n"
          ]
        }
      ]
    },
    {
      "cell_type": "markdown",
      "source": [
        "**Q: Given a List of numbers, reshape it into a 2D array with specified dimensions.**\n",
        "\n",
        "```\n",
        "input:\n",
        "[1, 2, 3, 4, 5, 6, 7, 8, 9]\n",
        "desired shape: (3, 3)\n",
        "\n",
        "output:\n",
        "[[1, 2, 3],\n",
        " [4, 5, 6],\n",
        " [7, 8, 9]]\n",
        "```"
      ],
      "metadata": {
        "id": "1FmSHwYcv1w4"
      }
    },
    {
      "cell_type": "code",
      "source": [
        "ls=[1,2,3,4,5,6,7,8,9]\n",
        "row=3\n",
        "col=3\n",
        "res=[]\n",
        "c=0\n",
        "for i in range (row):\n",
        "  res.append([])\n",
        "  for j in range (3):\n",
        "    res[i].append(ls[c])\n",
        "    c+=1\n",
        "for i in res:\n",
        "  print(i,end=',\\n')"
      ],
      "metadata": {
        "colab": {
          "base_uri": "https://localhost:8080/"
        },
        "id": "XYGlaWOawrgr",
        "outputId": "015b3b5b-4c0d-4303-a697-7e55f68da21f"
      },
      "execution_count": 5,
      "outputs": [
        {
          "output_type": "stream",
          "name": "stdout",
          "text": [
            "[1, 2, 3],\n",
            "[4, 5, 6],\n",
            "[7, 8, 9],\n"
          ]
        }
      ]
    },
    {
      "cell_type": "markdown",
      "source": [
        "##Question 6: Matrix Multiplication\n",
        "Q: Given two Lists of numbers representing matrices, perform matrix multiplication.\n",
        "\n",
        "input:\n",
        "list1 = [[1, 2], [3, 4]]\n",
        "list2 = [[5, 6], [7, 8]]\n",
        "\n",
        "output:\n",
        "[[19, 22],\n",
        " [43, 50]]"
      ],
      "metadata": {
        "id": "AKpXg3Jp-ss-"
      }
    },
    {
      "cell_type": "code",
      "source": [
        "l1=[[1,2],\n",
        "    [3,4]]\n",
        "l2=[[5,6],\n",
        "    [7,8]]\n",
        "res=[]\n",
        "if len(l1[0])==len(l2):\n",
        "  for i in range(len(l1)):\n",
        "    res.append([])\n",
        "    for j in range(len(l2[0])):\n",
        "      s=0\n",
        "      for e in range(len(l2)):\n",
        "        m=l1[i][e]*l2[e][j]\n",
        "        s=s+m\n",
        "      res[i].append(s)\n",
        "res"
      ],
      "metadata": {
        "colab": {
          "base_uri": "https://localhost:8080/"
        },
        "id": "b5MQr7RM_I4E",
        "outputId": "f6d3b382-ef7a-4852-c2d5-7bcc12919b66"
      },
      "execution_count": 21,
      "outputs": [
        {
          "output_type": "execute_result",
          "data": {
            "text/plain": [
              "[[19, 22], [43, 50]]"
            ]
          },
          "metadata": {},
          "execution_count": 21
        }
      ]
    },
    {
      "cell_type": "markdown",
      "source": [
        "Question 7: Summation of Matrix Elements\n",
        "Q: Given a List of numbers representing a matrix, calculate the sum of all elements\n",
        "\n",
        "input:\n",
        "list1 = [[1, 2, 3], [4, 5, 6]]\n",
        "\n",
        "output:\n",
        "21"
      ],
      "metadata": {
        "id": "2sECwjt_T-_q"
      }
    },
    {
      "cell_type": "code",
      "source": [
        "l1=[[1,2,3],[4,5,6]]\n",
        "s=0\n",
        "for i in range(len(l1)):\n",
        "  for j in range(len(l1[i])):\n",
        "    s=s+l1[i][j]\n",
        "s"
      ],
      "metadata": {
        "colab": {
          "base_uri": "https://localhost:8080/"
        },
        "id": "ilDqjtvqUzM3",
        "outputId": "f15d17d2-4932-4d98-ed86-0aaae4e4e51a"
      },
      "execution_count": 7,
      "outputs": [
        {
          "output_type": "execute_result",
          "data": {
            "text/plain": [
              "21"
            ]
          },
          "metadata": {},
          "execution_count": 7
        }
      ]
    },
    {
      "cell_type": "markdown",
      "source": [
        "Question 8:\n",
        "Q: Given a list of numbers and a list of indices, generate an output list with elements present at respective indices.\n",
        "\n",
        "Example:\n",
        "\n",
        "numbers = [10, 20, 30, 40, 50]\n",
        "indices = [2, 0, 3, 1, 1]\n",
        "\n",
        "Expected output: [30, 10, 40, 20, 20]\n",
        "Notice that the output list is constructed using elements in indices list. For each index, the corresponding element from the numbers list is fetched."
      ],
      "metadata": {
        "id": "68zoL5svV0Ye"
      }
    },
    {
      "cell_type": "code",
      "source": [
        "l1=[10,20,30,40,50]\n",
        "i=[2,0,3,1,1]\n",
        "res=[]\n",
        "if len(l1)==len(i):\n",
        "  for j in i:\n",
        "    res.append(l1[j])\n",
        "res"
      ],
      "metadata": {
        "colab": {
          "base_uri": "https://localhost:8080/"
        },
        "id": "BPkUPL3tWAg1",
        "outputId": "f9b32dae-35b2-40ca-9d6d-61591af2cb28"
      },
      "execution_count": 8,
      "outputs": [
        {
          "output_type": "execute_result",
          "data": {
            "text/plain": [
              "[30, 10, 40, 20, 20]"
            ]
          },
          "metadata": {},
          "execution_count": 8
        }
      ]
    },
    {
      "cell_type": "markdown",
      "source": [
        "Question 9:\n",
        "Q: Given two numbers a and b and a list of numbers of size a*b, Create a new matrix of size a x b\n",
        "\n",
        "Example:\n",
        "\n",
        "a = 3\n",
        "b = 4\n",
        "input_list = [ 0,  1,  2,  3,  4,  5,  6,  7,  8,  9, 10, 11]\n",
        "\n",
        "# Expected output:\n",
        "[[ 0,  1,  2,  3],\n",
        " [ 4,  5,  6,  7],\n",
        " [ 8,  9, 10, 11]]\n",
        "Notice that the output is of size 3 x 4"
      ],
      "metadata": {
        "id": "w6dWwbpaYCwj"
      }
    },
    {
      "cell_type": "code",
      "source": [
        "a=3\n",
        "b=4\n",
        "l1=[i for i in range (a*b)]\n",
        "res=[]\n",
        "s=0\n",
        "for i in range(a):\n",
        "  res.append([])\n",
        "  for j in range (b):\n",
        "    res[i].append(l1[s])\n",
        "    s=s+1\n",
        "res"
      ],
      "metadata": {
        "colab": {
          "base_uri": "https://localhost:8080/"
        },
        "id": "-5g4qtU4YG7n",
        "outputId": "c3478ac7-5690-47ee-d02c-af8456929111"
      },
      "execution_count": 9,
      "outputs": [
        {
          "output_type": "execute_result",
          "data": {
            "text/plain": [
              "[[0, 1, 2, 3], [4, 5, 6, 7], [8, 9, 10, 11]]"
            ]
          },
          "metadata": {},
          "execution_count": 9
        }
      ]
    },
    {
      "cell_type": "markdown",
      "source": [
        "Question 10:\n",
        "Q: Given a 2D matrix and a threshold number, filter all elements less than threshold\n",
        "\n",
        "Example:\n",
        "\n",
        "threshold = 6\n",
        "input_list =\n",
        "[[ 0,  1,  2,  3],\n",
        " [ 4,  5,  6,  7],\n",
        " [ 8,  9, 10, 11]]\n",
        "\n",
        "Output:\n",
        "[0, 1, 2, 3, 4, 5]"
      ],
      "metadata": {
        "id": "mJB4Hanhgvow"
      }
    },
    {
      "cell_type": "code",
      "source": [
        "l1=[[0,1,2,3],[4,5,6,7],[8,9,10,11]]\n",
        "t=6\n",
        "res=[]\n",
        "for i in range (len(l1)):\n",
        "  for j in range (len(l1[i])):\n",
        "    if l1[i][j]<t:\n",
        "      res.append(l1[i][j])\n",
        "res"
      ],
      "metadata": {
        "colab": {
          "base_uri": "https://localhost:8080/"
        },
        "id": "XpCTCtKbhdmu",
        "outputId": "ae59db85-bf35-40d6-9ccd-7de6a48152db"
      },
      "execution_count": 13,
      "outputs": [
        {
          "output_type": "execute_result",
          "data": {
            "text/plain": [
              "[0, 1, 2, 3, 4, 5]"
            ]
          },
          "metadata": {},
          "execution_count": 13
        }
      ]
    },
    {
      "cell_type": "markdown",
      "source": [
        "Question 11:\n",
        "Q: Given a 2D matrix, Find the sum of each column(also known as rowwise sum) and return output as list\n",
        "\n",
        "Example:\n",
        "\n",
        "\n",
        "input_list =\n",
        "[[ 0,  1,  2,  3],\n",
        " [ 4,  5,  6,  7],\n",
        " [ 8,  9, 10, 11]]\n",
        "\n",
        "Output:\n",
        "[12, 15, 18, 21])\n",
        "Notice there are 4 columns hence 4 output"
      ],
      "metadata": {
        "id": "iq07rxYgF57H"
      }
    },
    {
      "cell_type": "code",
      "source": [
        "ls=[[0,1,2,3],\n",
        "    [4,5,6,7],\n",
        "    [8,9,10,11]]\n",
        "res=[]\n",
        "for i in range (len(ls[0])):\n",
        "  s=0\n",
        "  for j in range (len(ls)):\n",
        "    s=s+ls[j][i]\n",
        "  res.append(s)\n",
        "res\n"
      ],
      "metadata": {
        "colab": {
          "base_uri": "https://localhost:8080/"
        },
        "id": "JyfSQ-MlF9pR",
        "outputId": "5b2dcebe-e9d7-484d-83ba-01acded8d93a"
      },
      "execution_count": 14,
      "outputs": [
        {
          "output_type": "execute_result",
          "data": {
            "text/plain": [
              "[12, 15, 18, 21]"
            ]
          },
          "metadata": {},
          "execution_count": 14
        }
      ]
    },
    {
      "cell_type": "markdown",
      "source": [
        "Question 12:\n",
        "Q: Given a 2D matrix , Find the sum of each row ((also known as column-wise sum) and return output as list\n",
        "\n",
        "Example:\n",
        "\n",
        "threshold = 6\n",
        "input_list =\n",
        "[[ 0,  1,  2,  3],\n",
        " [ 4,  5,  6,  7],\n",
        " [ 8,  9, 10, 11]]\n",
        "\n",
        "Output:\n",
        "[ 6, 22, 38])"
      ],
      "metadata": {
        "id": "AGaJMuNKHd38"
      }
    },
    {
      "cell_type": "code",
      "source": [
        "ls=[[0,1,2,3],\n",
        "    [4,5,6,7],\n",
        "    [8,9,10,11]]\n",
        "res=[]\n",
        "for i in range (len(ls)):\n",
        "    s=0\n",
        "    for j in range(len(ls[0])):\n",
        "        s=s+ls[i][j]\n",
        "    res.append(s)\n",
        "res"
      ],
      "metadata": {
        "colab": {
          "base_uri": "https://localhost:8080/"
        },
        "id": "wvWBBQAPHiAi",
        "outputId": "1e71bf06-3c28-4aea-f10a-2e34cd797b5b"
      },
      "execution_count": 15,
      "outputs": [
        {
          "output_type": "execute_result",
          "data": {
            "text/plain": [
              "[6, 22, 38]"
            ]
          },
          "metadata": {},
          "execution_count": 15
        }
      ]
    },
    {
      "cell_type": "markdown",
      "source": [
        "##Q 13: Matrix Multiplication\n",
        "\n",
        "a) Scaler multiplied with Matix: Given a Matrix a and a scaler/constant value b, return a new matrix with elements of a multiplied by b\n",
        "\n",
        "input:\n",
        "a = [\n",
        "    [ 0,  1,  2,  3],\n",
        "    [ 4,  5,  6,  7],\n",
        "    [ 8,  9, 10, 11]\n",
        "    ]\n",
        "b = 5\n",
        "\n",
        "output:\n",
        "ans = [\n",
        "    [ 0,  5, 10, 15],\n",
        "    [20, 25, 30, 35],\n",
        "    [40, 45, 50, 55]]\n",
        "    ]"
      ],
      "metadata": {
        "id": "t55jKOnHIpyE"
      }
    },
    {
      "cell_type": "code",
      "source": [
        "ls=[[0,1,2,3],[4,5,6,7],[8,9,10,11]]\n",
        "b=5\n",
        "res=[]\n",
        "for i in range (len(ls)):\n",
        "  res.append([])\n",
        "  for j in range (len(ls[0])):\n",
        "    m=b*ls[i][j]\n",
        "    res[i].append(m)\n",
        "res"
      ],
      "metadata": {
        "colab": {
          "base_uri": "https://localhost:8080/"
        },
        "id": "UoDO-CKFIwak",
        "outputId": "73377017-898f-4659-9b29-028ebd2b5c96"
      },
      "execution_count": 16,
      "outputs": [
        {
          "output_type": "execute_result",
          "data": {
            "text/plain": [
              "[[0, 5, 10, 15], [20, 25, 30, 35], [40, 45, 50, 55]]"
            ]
          },
          "metadata": {},
          "execution_count": 16
        }
      ]
    },
    {
      "cell_type": "markdown",
      "source": [
        "##Q 13: Matrix Multiplication\n",
        "\n",
        "b) Given two matrices a and b, return new matrix as element wise with matrix multiplication of a and b:\n",
        "\n",
        "input:\n",
        "a = [\n",
        "    [ 0,  1,  2,  3],\n",
        "    [ 4,  5,  6,  7],\n",
        "    [ 8,  9, 10, 11]\n",
        "    ]\n",
        "b = [\n",
        "    [13, 14, 15, 16],\n",
        "    [17, 18, 19, 20],\n",
        "    [21, 22, 23, 24]\n",
        "    ]\n",
        "\n",
        "output:\n",
        "ans = [\n",
        " [ 0,  14,  30,  48],\n",
        " [68,  90, 114, 140],\n",
        " [168, 198, 230, 264]\n",
        "]"
      ],
      "metadata": {
        "id": "sTTgMRW-KCpI"
      }
    },
    {
      "cell_type": "code",
      "source": [
        "l1=[ [ 0, 1, 2, 3],\n",
        "     [ 4, 5, 6, 7],\n",
        "     [ 8, 9, 10, 11] ]\n",
        "l2=[ [13, 14, 15, 16],\n",
        "     [17, 18, 19, 20],\n",
        "     [21, 22, 23, 24] ]\n",
        "res=[]\n",
        "if len(l1)*len(l1[0])==len(l2)*len(l2[0]):\n",
        "  for i in range (len(l1)):\n",
        "    res.append([])\n",
        "    for j in range(len(l1[0])):\n",
        "      m=l1[i][j]*l2[i][j]\n",
        "      res[i].append(m)\n",
        "res\n"
      ],
      "metadata": {
        "colab": {
          "base_uri": "https://localhost:8080/"
        },
        "id": "zBLhYJTNKOj-",
        "outputId": "bea6d66d-21b1-400d-8c69-1f24c666a53a"
      },
      "execution_count": 17,
      "outputs": [
        {
          "output_type": "execute_result",
          "data": {
            "text/plain": [
              "[[0, 14, 30, 48], [68, 90, 114, 140], [168, 198, 230, 264]]"
            ]
          },
          "metadata": {},
          "execution_count": 17
        }
      ]
    },
    {
      "cell_type": "markdown",
      "source": [
        "##Q 13: Matrix Multiplication\n",
        "\n",
        "c) Standard Matrix Multiplication: Given Two matrices a and b of same dimensions, return new matrix a x b_transponse (refer https://www.mathsisfun.com/algebra/matrix-multiplying.html)\n",
        "\n",
        "input:\n",
        "a = [\n",
        "    [ 0,  1,  2,  3],\n",
        "    [ 4,  5,  6,  7],\n",
        "    [ 8,  9, 10, 11]\n",
        "    ]\n",
        "b = [\n",
        "    [13, 14, 15, 16],\n",
        "    [17, 18, 19, 20],\n",
        "    [21, 22, 23, 24]\n",
        "    ]\n",
        "\n",
        "output:\n",
        "ans = [\n",
        "    [ 92, 116, 140],\n",
        "    [324, 412, 500],\n",
        "    [556, 708, 860]\n",
        "    ]"
      ],
      "metadata": {
        "id": "64jN37VhMNeS"
      }
    },
    {
      "cell_type": "code",
      "source": [
        "l1 = [\n",
        "    [ 0,  1,  2,  3],\n",
        "    [ 4,  5,  6,  7],\n",
        "    [ 8,  9, 10, 11]\n",
        "    ]\n",
        "l2 = [\n",
        "    [13, 14, 15, 16],\n",
        "    [17, 18, 19, 20],\n",
        "    [21, 22, 23, 24]\n",
        "    ]\n",
        "l2_T=[]\n",
        "for i in range(len(l2[0])):\n",
        "  l2_T.append([])\n",
        "  for j in range (len(l2)):\n",
        "    l2_T[i].append(l2[j][i])\n",
        "res=[]\n",
        "if len(l1[0])==len(l2_T):\n",
        "  for i in range(len(l1)):\n",
        "    res.append([])\n",
        "    for j in range(len(l2_T[0])):\n",
        "      s=0\n",
        "      for e in range(len(l2_T)):\n",
        "        m=l1[i][e]*l2_T[e][j]\n",
        "        s=s+m\n",
        "      res[i].append(s)\n",
        "res"
      ],
      "metadata": {
        "colab": {
          "base_uri": "https://localhost:8080/"
        },
        "id": "CoU6BIEwMd5K",
        "outputId": "d4fb0ad0-13d2-4239-fa0a-bdaefd4b9b14"
      },
      "execution_count": 22,
      "outputs": [
        {
          "output_type": "execute_result",
          "data": {
            "text/plain": [
              "[[92, 116, 140], [324, 412, 500], [556, 708, 860]]"
            ]
          },
          "metadata": {},
          "execution_count": 22
        }
      ]
    }
  ]
}